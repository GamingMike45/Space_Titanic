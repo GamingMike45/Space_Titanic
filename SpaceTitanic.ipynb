{
 "cells": [
  {
   "cell_type": "code",
   "metadata": {
    "ExecuteTime": {
     "end_time": "2024-11-21T18:36:15.561445Z",
     "start_time": "2024-11-21T18:36:15.557225Z"
    }
   },
   "source": [
    "import numpy as np\n",
    "import pandas as pd\n",
    "import matplotlib.pyplot as plt\n",
    "import seaborn as sns"
   ],
   "outputs": [],
   "execution_count": 85
  },
  {
   "cell_type": "code",
   "metadata": {
    "ExecuteTime": {
     "end_time": "2024-11-21T18:36:15.626075Z",
     "start_time": "2024-11-21T18:36:15.577097Z"
    }
   },
   "source": [
    "train = pd.read_csv(\"Data/train.csv\")\n",
    "test = pd.read_csv(\"Data/test.csv\")\n",
    "\n",
    "print(train.head())"
   ],
   "outputs": [
    {
     "name": "stdout",
     "output_type": "stream",
     "text": [
      "  PassengerId HomePlanet CryoSleep  Cabin  Destination   Age    VIP  \\\n",
      "0     0001_01     Europa     False  B/0/P  TRAPPIST-1e  39.0  False   \n",
      "1     0002_01      Earth     False  F/0/S  TRAPPIST-1e  24.0  False   \n",
      "2     0003_01     Europa     False  A/0/S  TRAPPIST-1e  58.0   True   \n",
      "3     0003_02     Europa     False  A/0/S  TRAPPIST-1e  33.0  False   \n",
      "4     0004_01      Earth     False  F/1/S  TRAPPIST-1e  16.0  False   \n",
      "\n",
      "   RoomService  FoodCourt  ShoppingMall     Spa  VRDeck               Name  \\\n",
      "0          0.0        0.0           0.0     0.0     0.0    Maham Ofracculy   \n",
      "1        109.0        9.0          25.0   549.0    44.0       Juanna Vines   \n",
      "2         43.0     3576.0           0.0  6715.0    49.0      Altark Susent   \n",
      "3          0.0     1283.0         371.0  3329.0   193.0       Solam Susent   \n",
      "4        303.0       70.0         151.0   565.0     2.0  Willy Santantines   \n",
      "\n",
      "   Transported  \n",
      "0        False  \n",
      "1         True  \n",
      "2        False  \n",
      "3        False  \n",
      "4         True  \n"
     ]
    }
   ],
   "execution_count": 86
  },
  {
   "cell_type": "code",
   "metadata": {
    "ExecuteTime": {
     "end_time": "2024-11-21T18:36:15.698181Z",
     "start_time": "2024-11-21T18:36:15.662134Z"
    }
   },
   "source": [
    "#looking at training set\n",
    "print(train.describe())\n",
    "print(train.isna().sum())\n",
    "\n",
    "#looking at testing set\n",
    "print(test.describe())\n",
    "print(test.isna().sum())"
   ],
   "outputs": [
    {
     "name": "stdout",
     "output_type": "stream",
     "text": [
      "               Age   RoomService     FoodCourt  ShoppingMall           Spa  \\\n",
      "count  8514.000000   8512.000000   8510.000000   8485.000000   8510.000000   \n",
      "mean     28.827930    224.687617    458.077203    173.729169    311.138778   \n",
      "std      14.489021    666.717663   1611.489240    604.696458   1136.705535   \n",
      "min       0.000000      0.000000      0.000000      0.000000      0.000000   \n",
      "25%      19.000000      0.000000      0.000000      0.000000      0.000000   \n",
      "50%      27.000000      0.000000      0.000000      0.000000      0.000000   \n",
      "75%      38.000000     47.000000     76.000000     27.000000     59.000000   \n",
      "max      79.000000  14327.000000  29813.000000  23492.000000  22408.000000   \n",
      "\n",
      "             VRDeck  \n",
      "count   8505.000000  \n",
      "mean     304.854791  \n",
      "std     1145.717189  \n",
      "min        0.000000  \n",
      "25%        0.000000  \n",
      "50%        0.000000  \n",
      "75%       46.000000  \n",
      "max    24133.000000  \n",
      "PassengerId       0\n",
      "HomePlanet      201\n",
      "CryoSleep       217\n",
      "Cabin           199\n",
      "Destination     182\n",
      "Age             179\n",
      "VIP             203\n",
      "RoomService     181\n",
      "FoodCourt       183\n",
      "ShoppingMall    208\n",
      "Spa             183\n",
      "VRDeck          188\n",
      "Name            200\n",
      "Transported       0\n",
      "dtype: int64\n",
      "               Age   RoomService     FoodCourt  ShoppingMall           Spa  \\\n",
      "count  4186.000000   4195.000000   4171.000000   4179.000000   4176.000000   \n",
      "mean     28.658146    219.266269    439.484296    177.295525    303.052443   \n",
      "std      14.179072    607.011289   1527.663045    560.821123   1117.186015   \n",
      "min       0.000000      0.000000      0.000000      0.000000      0.000000   \n",
      "25%      19.000000      0.000000      0.000000      0.000000      0.000000   \n",
      "50%      26.000000      0.000000      0.000000      0.000000      0.000000   \n",
      "75%      37.000000     53.000000     78.000000     33.000000     50.000000   \n",
      "max      79.000000  11567.000000  25273.000000   8292.000000  19844.000000   \n",
      "\n",
      "             VRDeck  \n",
      "count   4197.000000  \n",
      "mean     310.710031  \n",
      "std     1246.994742  \n",
      "min        0.000000  \n",
      "25%        0.000000  \n",
      "50%        0.000000  \n",
      "75%       36.000000  \n",
      "max    22272.000000  \n",
      "PassengerId       0\n",
      "HomePlanet       87\n",
      "CryoSleep        93\n",
      "Cabin           100\n",
      "Destination      92\n",
      "Age              91\n",
      "VIP              93\n",
      "RoomService      82\n",
      "FoodCourt       106\n",
      "ShoppingMall     98\n",
      "Spa             101\n",
      "VRDeck           80\n",
      "Name             94\n",
      "dtype: int64\n"
     ]
    }
   ],
   "execution_count": 87
  },
  {
   "cell_type": "code",
   "metadata": {
    "ExecuteTime": {
     "end_time": "2024-11-21T18:36:15.809463Z",
     "start_time": "2024-11-21T18:36:15.771570Z"
    }
   },
   "source": [
    "train = train.drop([\"Name\", \"PassengerId\", \"Destination\"], axis=1)\n",
    "test = test.drop([\"Name\", \"PassengerId\", \"Destination\"], axis=1)\n",
    "\n",
    "#looking at training set\n",
    "print(train.describe())\n",
    "print(train.isna().sum())\n",
    "\n",
    "#looking at testing set\n",
    "print(test.describe())\n",
    "print(test.isna().sum())"
   ],
   "outputs": [
    {
     "name": "stdout",
     "output_type": "stream",
     "text": [
      "               Age   RoomService     FoodCourt  ShoppingMall           Spa  \\\n",
      "count  8514.000000   8512.000000   8510.000000   8485.000000   8510.000000   \n",
      "mean     28.827930    224.687617    458.077203    173.729169    311.138778   \n",
      "std      14.489021    666.717663   1611.489240    604.696458   1136.705535   \n",
      "min       0.000000      0.000000      0.000000      0.000000      0.000000   \n",
      "25%      19.000000      0.000000      0.000000      0.000000      0.000000   \n",
      "50%      27.000000      0.000000      0.000000      0.000000      0.000000   \n",
      "75%      38.000000     47.000000     76.000000     27.000000     59.000000   \n",
      "max      79.000000  14327.000000  29813.000000  23492.000000  22408.000000   \n",
      "\n",
      "             VRDeck  \n",
      "count   8505.000000  \n",
      "mean     304.854791  \n",
      "std     1145.717189  \n",
      "min        0.000000  \n",
      "25%        0.000000  \n",
      "50%        0.000000  \n",
      "75%       46.000000  \n",
      "max    24133.000000  \n",
      "HomePlanet      201\n",
      "CryoSleep       217\n",
      "Cabin           199\n",
      "Age             179\n",
      "VIP             203\n",
      "RoomService     181\n",
      "FoodCourt       183\n",
      "ShoppingMall    208\n",
      "Spa             183\n",
      "VRDeck          188\n",
      "Transported       0\n",
      "dtype: int64\n",
      "               Age   RoomService     FoodCourt  ShoppingMall           Spa  \\\n",
      "count  4186.000000   4195.000000   4171.000000   4179.000000   4176.000000   \n",
      "mean     28.658146    219.266269    439.484296    177.295525    303.052443   \n",
      "std      14.179072    607.011289   1527.663045    560.821123   1117.186015   \n",
      "min       0.000000      0.000000      0.000000      0.000000      0.000000   \n",
      "25%      19.000000      0.000000      0.000000      0.000000      0.000000   \n",
      "50%      26.000000      0.000000      0.000000      0.000000      0.000000   \n",
      "75%      37.000000     53.000000     78.000000     33.000000     50.000000   \n",
      "max      79.000000  11567.000000  25273.000000   8292.000000  19844.000000   \n",
      "\n",
      "             VRDeck  \n",
      "count   4197.000000  \n",
      "mean     310.710031  \n",
      "std     1246.994742  \n",
      "min        0.000000  \n",
      "25%        0.000000  \n",
      "50%        0.000000  \n",
      "75%       36.000000  \n",
      "max    22272.000000  \n",
      "HomePlanet       87\n",
      "CryoSleep        93\n",
      "Cabin           100\n",
      "Age              91\n",
      "VIP              93\n",
      "RoomService      82\n",
      "FoodCourt       106\n",
      "ShoppingMall     98\n",
      "Spa             101\n",
      "VRDeck           80\n",
      "dtype: int64\n"
     ]
    }
   ],
   "execution_count": 88
  },
  {
   "cell_type": "code",
   "metadata": {
    "ExecuteTime": {
     "end_time": "2024-11-21T18:36:15.841729Z",
     "start_time": "2024-11-21T18:36:15.818813Z"
    }
   },
   "source": [
    "#train = train.dropna()\n",
    "\n",
    "#looking at training set\n",
    "print(train.describe())\n",
    "print(train.isna().sum())\n",
    "print(train['CryoSleep'])\n"
   ],
   "outputs": [
    {
     "name": "stdout",
     "output_type": "stream",
     "text": [
      "               Age   RoomService     FoodCourt  ShoppingMall           Spa  \\\n",
      "count  8514.000000   8512.000000   8510.000000   8485.000000   8510.000000   \n",
      "mean     28.827930    224.687617    458.077203    173.729169    311.138778   \n",
      "std      14.489021    666.717663   1611.489240    604.696458   1136.705535   \n",
      "min       0.000000      0.000000      0.000000      0.000000      0.000000   \n",
      "25%      19.000000      0.000000      0.000000      0.000000      0.000000   \n",
      "50%      27.000000      0.000000      0.000000      0.000000      0.000000   \n",
      "75%      38.000000     47.000000     76.000000     27.000000     59.000000   \n",
      "max      79.000000  14327.000000  29813.000000  23492.000000  22408.000000   \n",
      "\n",
      "             VRDeck  \n",
      "count   8505.000000  \n",
      "mean     304.854791  \n",
      "std     1145.717189  \n",
      "min        0.000000  \n",
      "25%        0.000000  \n",
      "50%        0.000000  \n",
      "75%       46.000000  \n",
      "max    24133.000000  \n",
      "HomePlanet      201\n",
      "CryoSleep       217\n",
      "Cabin           199\n",
      "Age             179\n",
      "VIP             203\n",
      "RoomService     181\n",
      "FoodCourt       183\n",
      "ShoppingMall    208\n",
      "Spa             183\n",
      "VRDeck          188\n",
      "Transported       0\n",
      "dtype: int64\n",
      "0       False\n",
      "1       False\n",
      "2       False\n",
      "3       False\n",
      "4       False\n",
      "        ...  \n",
      "8688    False\n",
      "8689     True\n",
      "8690    False\n",
      "8691    False\n",
      "8692    False\n",
      "Name: CryoSleep, Length: 8693, dtype: object\n"
     ]
    }
   ],
   "execution_count": 89
  },
  {
   "cell_type": "code",
   "metadata": {
    "ExecuteTime": {
     "end_time": "2024-11-21T18:36:16.211778Z",
     "start_time": "2024-11-21T18:36:15.907592Z"
    }
   },
   "source": [
    "#Sns heat map using numbers and bool\n",
    "numeric_columns = train.select_dtypes(include=['int64', 'float64', \"bool\"])\n",
    "correlation_matrix = numeric_columns.corr()\n",
    "\n",
    "# Plot heatmap\n",
    "sns.heatmap(correlation_matrix, cmap=\"coolwarm\", annot=True)\n",
    "plt.show()"
   ],
   "outputs": [
    {
     "data": {
      "text/plain": [
       "<Figure size 640x480 with 2 Axes>"
      ],
      "image/png": "[encoded data removed]"
     },
     "metadata": {},
     "output_type": "display_data"
    }
   ],
   "execution_count": 90
  },
  {
   "cell_type": "code",
   "metadata": {
    "ExecuteTime": {
     "end_time": "2024-11-21T18:36:16.249439Z",
     "start_time": "2024-11-21T18:36:16.243908Z"
    }
   },
   "source": [
    "import xgboost as xgb\n",
    "from sklearn.ensemble import RandomForestClassifier\n",
    "from sklearn.tree import DecisionTreeClassifier\n",
    "from sklearn.neighbors import KNeighborsClassifier\n",
    "from sklearn.linear_model import LogisticRegression\n",
    "\n",
    "from sklearn.model_selection import train_test_split\n",
    "from sklearn.model_selection import RandomizedSearchCV\n",
    "\n",
    "from sklearn.metrics import accuracy_score, confusion_matrix"
   ],
   "outputs": [],
   "execution_count": 91
  },
  {
   "cell_type": "code",
   "metadata": {
    "ExecuteTime": {
     "end_time": "2024-11-21T18:36:16.318533Z",
     "start_time": "2024-11-21T18:36:16.285355Z"
    }
   },
   "source": [
    "actual = pd.read_csv(\"Data/sample_submission.csv\")\n",
    "actual = actual.drop(\"PassengerId\", axis=1)\n",
    "\n",
    "\n",
    "\n",
    "#Filling NA Values in Cabin for data reading\n",
    "train[\"Cabin\"] = train[\"Cabin\"].fillna(str(\"T\"))\n",
    "test[\"Cabin\"] = test[\"Cabin\"].fillna(str('T'))\n",
    "\n",
    "#Filling NA Values in Cabin for data reading\n",
    "train[\"Age\"] = train[\"Age\"].fillna(train[\"Age\"].mean())\n",
    "test[\"Age\"] = test[\"Age\"].fillna(train[\"Age\"].mean())\n",
    "\n",
    "#Filling NA Values in Cabin for data reading\n",
    "train[\"HomePlanet\"] = train[\"HomePlanet\"].fillna(\"NA\")\n",
    "test[\"HomePlanet\"] = test[\"HomePlanet\"].fillna(\"NA\")\n",
    "\n",
    "#Filling NA Values in Cabin for data reading\n",
    "train[\"CryoSleep\"] = train[\"CryoSleep\"].fillna(False)\n",
    "test[\"CryoSleep\"] = test[\"CryoSleep\"].fillna(False)\n",
    "\n",
    "trial = 1\n",
    "\n",
    "#Crap not needed\n",
    "if trial == 1:\n",
    "\n",
    "    #Filling NA Values in Cabin for data reading\n",
    "    train[\"VIP\"] = train[\"VIP\"].fillna(False)\n",
    "    test[\"VIP\"] = test[\"VIP\"].fillna(False)\n",
    "\n",
    "    #Filling NA Values in Cabin for data reading\n",
    "    train[\"RoomService\"] = train[\"RoomService\"].fillna(0)\n",
    "    test[\"RoomService\"] = test[\"RoomService\"].fillna(0)\n",
    "\n",
    "    #Filling NA Values in Cabin for data reading\n",
    "    train[\"FoodCourt\"] = train[\"FoodCourt\"].fillna(0)\n",
    "    test[\"FoodCourt\"] = test[\"FoodCourt\"].fillna(0)\n",
    "\n",
    "    #Filling NA Values in Cabin for data reading\n",
    "    train[\"ShoppingMall\"] = train[\"ShoppingMall\"].fillna(0)\n",
    "    test[\"ShoppingMall\"] = test[\"ShoppingMall\"].fillna(0)\n",
    "\n",
    "    #Filling NA Values in Cabin for data reading\n",
    "    train[\"Spa\"] = train[\"Spa\"].fillna(0)\n",
    "    test[\"Spa\"] = test[\"Spa\"].fillna(0)\n",
    "\n",
    "    #Filling NA Values in Cabin for data reading\n",
    "    train[\"VRDeck\"] = train[\"VRDeck\"].fillna(0)\n",
    "    test[\"VRDeck\"] = test[\"VRDeck\"].fillna(0)\n",
    "\n",
    "else: \n",
    "    train = train.drop([\"VIP\", \"RoomService\", \"FoodCourt\", \"ShoppingMall\", \"Spa\", \"VRDeck\"], axis=1)\n",
    "    test = test.drop([\"VIP\", \"RoomService\", \"FoodCourt\", \"ShoppingMall\", \"Spa\", \"VRDeck\"], axis=1)\n",
    "\n",
    "    \n",
    "\n",
    "\n",
    "#Takes the first letter of Cabin and splits it up to make data readable.\n",
    "train['Cabin'] = train['Cabin'].map(lambda x: x[0])\n",
    "test['Cabin'] = test['Cabin'].map(lambda x: x[0])\n",
    "\n",
    "\n",
    "#Error keeps popping up that could not convert string to float: 'Europa' Map changes them to numbers\n",
    "train['HomePlanet'] = train[\"HomePlanet\"].map({'Earth' : 1, 'Mars' : 2, 'Europa' : 3, \"NA\": 4})\n",
    "train['Cabin'] = train[\"Cabin\"].map({'A' : 1, 'B' : 2, 'C' : 3, 'D' : 4, 'E': 5, 'F' : 6, 'G' : 7, \"T\" : 8})\n",
    "\n",
    "test['HomePlanet'] = test[\"HomePlanet\"].map({'Earth' : 1, 'Mars' : 2, 'Europa' : 3, \"NA\" : 4})\n",
    "test['Cabin'] = test[\"Cabin\"].map({'A' : 1, 'B' : 2, 'C' : 3, 'D' : 4, 'E': 5, 'F' : 6, 'G' : 7, \"T\" : 8})\n",
    "\n",
    "\n",
    "\n",
    "X_train = train.drop(\"Transported\", axis=1)\n",
    "X_test = test\n",
    "y_train = train['Transported']\n",
    "y_test = actual \n"
   ],
   "outputs": [
    {
     "name": "stderr",
     "output_type": "stream",
     "text": [
      "C:\\Users\\scout\\AppData\\Local\\Temp\\ipykernel_18464\\761214582.py:19: FutureWarning: Downcasting object dtype arrays on .fillna, .ffill, .bfill is deprecated and will change in a future version. Call result.infer_objects(copy=False) instead. To opt-in to the future behavior, set `pd.set_option('future.no_silent_downcasting', True)`\n",
      "  train[\"CryoSleep\"] = train[\"CryoSleep\"].fillna(False)\n",
      "C:\\Users\\scout\\AppData\\Local\\Temp\\ipykernel_18464\\761214582.py:20: FutureWarning: Downcasting object dtype arrays on .fillna, .ffill, .bfill is deprecated and will change in a future version. Call result.infer_objects(copy=False) instead. To opt-in to the future behavior, set `pd.set_option('future.no_silent_downcasting', True)`\n",
      "  test[\"CryoSleep\"] = test[\"CryoSleep\"].fillna(False)\n",
      "C:\\Users\\scout\\AppData\\Local\\Temp\\ipykernel_18464\\761214582.py:28: FutureWarning: Downcasting object dtype arrays on .fillna, .ffill, .bfill is deprecated and will change in a future version. Call result.infer_objects(copy=False) instead. To opt-in to the future behavior, set `pd.set_option('future.no_silent_downcasting', True)`\n",
      "  train[\"VIP\"] = train[\"VIP\"].fillna(False)\n",
      "C:\\Users\\scout\\AppData\\Local\\Temp\\ipykernel_18464\\761214582.py:29: FutureWarning: Downcasting object dtype arrays on .fillna, .ffill, .bfill is deprecated and will change in a future version. Call result.infer_objects(copy=False) instead. To opt-in to the future behavior, set `pd.set_option('future.no_silent_downcasting', True)`\n",
      "  test[\"VIP\"] = test[\"VIP\"].fillna(False)\n"
     ]
    }
   ],
   "execution_count": 92
  },
  {
   "cell_type": "code",
   "metadata": {
    "ExecuteTime": {
     "end_time": "2024-11-21T18:36:16.356978Z",
     "start_time": "2024-11-21T18:36:16.353924Z"
    }
   },
   "source": [],
   "outputs": [],
   "execution_count": null
  },
  {
   "cell_type": "code",
   "metadata": {
    "ExecuteTime": {
     "end_time": "2024-11-21T18:36:16.399943Z",
     "start_time": "2024-11-21T18:36:16.393027Z"
    }
   },
   "source": [
    "X = pd.concat([X_train, X_test], axis=0)\n",
    "y = np.concatenate([y_train.values, y_test[\"Transported\"].values])\n",
    "\n",
    "\n",
    "from sklearn.model_selection import cross_val_score"
   ],
   "outputs": [],
   "execution_count": 93
  },
  {
   "metadata": {
    "ExecuteTime": {
     "end_time": "2024-11-21T18:36:17.755791Z",
     "start_time": "2024-11-21T18:36:16.436993Z"
    }
   },
   "cell_type": "code",
   "source": [
    "\n",
    "dt_model = DecisionTreeClassifier(random_state=1103)\n",
    "# Define hyperparameter space for random search\n",
    "\n",
    "param_grid = {\n",
    "\n",
    "    'max_depth': [3, 5, 7, 9],\n",
    "    'min_samples_split': [2, 5, 10],\n",
    "    'min_samples_leaf': [1, 5, 10],\n",
    "    'criterion': ['gini', 'entropy']\n",
    "\n",
    "}\n",
    "\n",
    "# Perform random search for hyperparameter optimization\n",
    "\n",
    "random_search = RandomizedSearchCV(dt_model, param_grid, cv=5, scoring='accuracy', n_iter=10, random_state=1103)\n",
    "\n",
    "random_search.fit(X_train, y_train)\n",
    "\n",
    "\n",
    "# Get the best hyperparameters and the corresponding model\n",
    "\n",
    "best_params = random_search.best_params_\n",
    "\n",
    "best_model_dt = random_search.best_estimator_\n",
    "\n",
    "print(best_params)\n",
    "\n",
    "# Make predictions with the optimized model\n",
    "\n",
    "y_pred_optimized = best_model_dt.predict(X_test)\n",
    "\n",
    "\n",
    "# Evaluate the model after optimization\n",
    "\n",
    "accuracy_after_optimization_dt = accuracy_score(y_test, y_pred_optimized)\n",
    "\n",
    "\n",
    "print(f\"Accuracy after optimization for Decision Tree: {accuracy_after_optimization_dt}\")"
   ],
   "outputs": [
    {
     "name": "stdout",
     "output_type": "stream",
     "text": [
      "{'min_samples_split': 5, 'min_samples_leaf': 5, 'max_depth': 9, 'criterion': 'entropy'}\n",
      "Accuracy after optimization for Decision Tree: 0.4535889642272621\n"
     ]
    }
   ],
   "execution_count": 94
  },
  {
   "cell_type": "code",
   "metadata": {
    "ExecuteTime": {
     "end_time": "2024-11-21T18:36:17.821464Z",
     "start_time": "2024-11-21T18:36:17.798370Z"
    }
   },
   "source": [
    "#Used to pull passager IDs\"\n",
    "test = pd.read_csv(\"Data/test.csv\")"
   ],
   "outputs": [],
   "execution_count": 95
  },
  {
   "cell_type": "code",
   "metadata": {
    "ExecuteTime": {
     "end_time": "2024-11-21T18:36:17.872769Z",
     "start_time": "2024-11-21T18:36:17.861820Z"
    }
   },
   "source": [
    "submission = pd.DataFrame({\n",
    "        \"PassengerId\": test[\"PassengerId\"],\n",
    "        \"Transported\": y_pred_optimized})\n",
    "\n",
    "print(submission)\n",
    "\n",
    "submission.to_csv('Data/submission.csv', index=False)"
   ],
   "outputs": [
    {
     "name": "stdout",
     "output_type": "stream",
     "text": [
      "     PassengerId  Transported\n",
      "0        0013_01         True\n",
      "1        0018_01        False\n",
      "2        0019_01         True\n",
      "3        0021_01         True\n",
      "4        0023_01         True\n",
      "...          ...          ...\n",
      "4272     9266_02         True\n",
      "4273     9269_01        False\n",
      "4274     9271_01         True\n",
      "4275     9273_01        False\n",
      "4276     9277_01        False\n",
      "\n",
      "[4277 rows x 2 columns]\n"
     ]
    }
   ],
   "execution_count": 96
  }
 ],
 "metadata": {
  "kernelspec": {
   "display_name": "Python 3",
   "language": "python",
   "name": "python3"
  },
  "language_info": {
   "codemirror_mode": {
    "name": "ipython",
    "version": 3
   },
   "file_extension": ".py",
   "mimetype": "text/x-python",
   "name": "python",
   "nbconvert_exporter": "python",
   "pygments_lexer": "ipython3",
   "version": "3.11.9"
  }
 },
 "nbformat": 4,
 "nbformat_minor": 2
}
